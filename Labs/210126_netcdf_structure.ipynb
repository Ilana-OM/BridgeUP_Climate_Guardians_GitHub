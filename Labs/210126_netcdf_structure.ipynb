{
 "cells": [
  {
   "cell_type": "markdown",
   "metadata": {},
   "source": [
    "# Structure of netCDF file"
   ]
  },
  {
   "cell_type": "markdown",
   "metadata": {},
   "source": [
    "###  netCDF file\n",
    "\n",
    "netCDF (network Common Data Form) is a file format for storing multidimensional array data. This is an example of a file with temperature and precipitation data.\n",
    "\n",
    "![](http://xarray.pydata.org/en/stable/_images/dataset-diagram.png)\n",
    "\n",
    "A netCDF file includes: \n",
    "* **data variables**: temperature, precipitation\n",
    "* **coordinates**: time, latitude, longitude\n",
    "* **attributes**: information about how the data is collected, institutions involved etc."
   ]
  },
  {
   "cell_type": "code",
   "execution_count": 1,
   "metadata": {},
   "outputs": [],
   "source": [
    "#Import the xarray library which is used to read and analyze netCDF files\n",
    "import xarray as xr\n",
    "#Other useful Python libraries\n",
    "import os"
   ]
  },
  {
   "cell_type": "code",
   "execution_count": 3,
   "metadata": {},
   "outputs": [
    {
     "data": {
      "text/plain": [
       "'/Users/ilanaocampo/Desktop/BridgeUP_Climate_Guardians_GitHub/Labs'"
      ]
     },
     "execution_count": 3,
     "metadata": {},
     "output_type": "execute_result"
    }
   ],
   "source": [
    "os.getcwd()"
   ]
  },
  {
   "cell_type": "code",
   "execution_count": 7,
   "metadata": {},
   "outputs": [
    {
     "data": {
      "text/plain": [
       "'/Users/ilanaocampo/Desktop/2020_BridgeUP_Internships/Data'"
      ]
     },
     "execution_count": 7,
     "metadata": {},
     "output_type": "execute_result"
    }
   ],
   "source": [
    "#Change to your data directory\n",
    "dataPath = '/Users/ilanaocampo/Desktop/2020_BridgeUP_Internships/data'\n",
    "os.chdir(dataPath)\n",
    "os.getcwd()"
   ]
  },
  {
   "cell_type": "markdown",
   "metadata": {},
   "source": [
    "### Import netCDF file\n",
    "\n",
    "`open_dataset(file name)` : imports netCDF file"
   ]
  },
  {
   "cell_type": "code",
   "execution_count": 9,
   "metadata": {},
   "outputs": [
    {
     "data": {
      "text/html": [
       "<pre>&lt;xarray.Dataset&gt;\n",
       "Dimensions:    (latitude: 180, longitude: 360, nv: 2, time: 1811)\n",
       "Coordinates:\n",
       "  * time       (time) datetime64[ns] 1870-01-16T11:59:59.505615234 ... 2020-1...\n",
       "  * latitude   (latitude) float32 89.5 88.5 87.5 86.5 ... -87.5 -88.5 -89.5\n",
       "  * longitude  (longitude) float32 -179.5 -178.5 -177.5 ... 177.5 178.5 179.5\n",
       "Dimensions without coordinates: nv\n",
       "Data variables:\n",
       "    time_bnds  (time, nv) float32 ...\n",
       "    sst        (time, latitude, longitude) float32 ...\n",
       "Attributes:\n",
       "    Title:                      Monthly version of HadISST sea surface temper...\n",
       "    description:                HadISST 1.1 monthly average sea surface tempe...\n",
       "    institution:                Met Office Hadley Centre\n",
       "    source:                     HadISST\n",
       "    reference:                  Rayner, N. A., Parker, D. E., Horton, E. B., ...\n",
       "    Conventions:                CF-1.0\n",
       "    history:                    8/1/2021 converted to netcdf from pp format\n",
       "    supplementary_information:  Updates and supplementary information will be...\n",
       "    comment:                    Data restrictions: for academic research use ...</pre>"
      ],
      "text/plain": [
       "<xarray.Dataset>\n",
       "Dimensions:    (latitude: 180, longitude: 360, nv: 2, time: 1811)\n",
       "Coordinates:\n",
       "  * time       (time) datetime64[ns] 1870-01-16T11:59:59.505615234 ... 2020-1...\n",
       "  * latitude   (latitude) float32 89.5 88.5 87.5 86.5 ... -87.5 -88.5 -89.5\n",
       "  * longitude  (longitude) float32 -179.5 -178.5 -177.5 ... 177.5 178.5 179.5\n",
       "Dimensions without coordinates: nv\n",
       "Data variables:\n",
       "    time_bnds  (time, nv) float32 ...\n",
       "    sst        (time, latitude, longitude) float32 ...\n",
       "Attributes:\n",
       "    Title:                      Monthly version of HadISST sea surface temper...\n",
       "    description:                HadISST 1.1 monthly average sea surface tempe...\n",
       "    institution:                Met Office Hadley Centre\n",
       "    source:                     HadISST\n",
       "    reference:                  Rayner, N. A., Parker, D. E., Horton, E. B., ...\n",
       "    Conventions:                CF-1.0\n",
       "    history:                    8/1/2021 converted to netcdf from pp format\n",
       "    supplementary_information:  Updates and supplementary information will be...\n",
       "    comment:                    Data restrictions: for academic research use ..."
      ]
     },
     "execution_count": 9,
     "metadata": {},
     "output_type": "execute_result"
    }
   ],
   "source": [
    "# Load the sea surface temperature dataset\n",
    "fileName = 'HadISST_sst.nc'\n",
    "data = xr.open_dataset(fileName)\n",
    "data"
   ]
  },
  {
   "cell_type": "code",
   "execution_count": 10,
   "metadata": {},
   "outputs": [
    {
     "data": {
      "text/html": [
       "<pre>&lt;xarray.Dataset&gt;\n",
       "Dimensions:    (latitude: 180, longitude: 360, nv: 2, time: 1811)\n",
       "Coordinates:\n",
       "  * time       (time) datetime64[ns] 1870-01-16T11:59:59.505615234 ... 2020-1...\n",
       "  * latitude   (latitude) float32 89.5 88.5 87.5 86.5 ... -87.5 -88.5 -89.5\n",
       "  * longitude  (longitude) float32 -179.5 -178.5 -177.5 ... 177.5 178.5 179.5\n",
       "Dimensions without coordinates: nv\n",
       "Data variables:\n",
       "    time_bnds  (time, nv) float32 ...\n",
       "    sst        (time, latitude, longitude) float32 ...\n",
       "Attributes:\n",
       "    Title:                      Monthly version of HadISST sea surface temper...\n",
       "    description:                HadISST 1.1 monthly average sea surface tempe...\n",
       "    institution:                Met Office Hadley Centre\n",
       "    source:                     HadISST\n",
       "    reference:                  Rayner, N. A., Parker, D. E., Horton, E. B., ...\n",
       "    Conventions:                CF-1.0\n",
       "    history:                    8/1/2021 converted to netcdf from pp format\n",
       "    supplementary_information:  Updates and supplementary information will be...\n",
       "    comment:                    Data restrictions: for academic research use ...</pre>"
      ],
      "text/plain": [
       "<xarray.Dataset>\n",
       "Dimensions:    (latitude: 180, longitude: 360, nv: 2, time: 1811)\n",
       "Coordinates:\n",
       "  * time       (time) datetime64[ns] 1870-01-16T11:59:59.505615234 ... 2020-1...\n",
       "  * latitude   (latitude) float32 89.5 88.5 87.5 86.5 ... -87.5 -88.5 -89.5\n",
       "  * longitude  (longitude) float32 -179.5 -178.5 -177.5 ... 177.5 178.5 179.5\n",
       "Dimensions without coordinates: nv\n",
       "Data variables:\n",
       "    time_bnds  (time, nv) float32 ...\n",
       "    sst        (time, latitude, longitude) float32 ...\n",
       "Attributes:\n",
       "    Title:                      Monthly version of HadISST sea surface temper...\n",
       "    description:                HadISST 1.1 monthly average sea surface tempe...\n",
       "    institution:                Met Office Hadley Centre\n",
       "    source:                     HadISST\n",
       "    reference:                  Rayner, N. A., Parker, D. E., Horton, E. B., ...\n",
       "    Conventions:                CF-1.0\n",
       "    history:                    8/1/2021 converted to netcdf from pp format\n",
       "    supplementary_information:  Updates and supplementary information will be...\n",
       "    comment:                    Data restrictions: for academic research use ..."
      ]
     },
     "execution_count": 10,
     "metadata": {},
     "output_type": "execute_result"
    }
   ],
   "source": [
    "# This is what the display will look like on Sublime so we'll change our display style to reflect that\n",
    "xr.set_options(display_style=\"text\")\n",
    "data"
   ]
  },
  {
   "cell_type": "markdown",
   "metadata": {},
   "source": [
    "### Extract sea surface temperature (SST)\n",
    "\n",
    "This is a lot of information! But we are only interested in one variable (i.e sst) within the dataset so let's extract that. \n",
    "\n",
    "We need to give Python a path to this value much like you would with the path to your Data folder but instead of separating values with `/` you use `.`"
   ]
  },
  {
   "cell_type": "code",
   "execution_count": 5,
   "metadata": {},
   "outputs": [
    {
     "data": {
      "text/html": [
       "<pre>&lt;xarray.DataArray &#x27;sst&#x27; (time: 1805, latitude: 180, longitude: 360)&gt;\n",
       "[116964000 values with dtype=float32]\n",
       "Coordinates:\n",
       "  * time       (time) datetime64[ns] 1870-01-16T11:59:59.505615234 ... 2020-0...\n",
       "  * latitude   (latitude) float32 89.5 88.5 87.5 86.5 ... -87.5 -88.5 -89.5\n",
       "  * longitude  (longitude) float32 -179.5 -178.5 -177.5 ... 177.5 178.5 179.5\n",
       "Attributes:\n",
       "    standard_name:  sea_surface_temperature\n",
       "    long_name:      sst\n",
       "    units:          C\n",
       "    cell_methods:   time: lat: lon: mean</pre>"
      ],
      "text/plain": [
       "<xarray.DataArray 'sst' (time: 1805, latitude: 180, longitude: 360)>\n",
       "[116964000 values with dtype=float32]\n",
       "Coordinates:\n",
       "  * time       (time) datetime64[ns] 1870-01-16T11:59:59.505615234 ... 2020-0...\n",
       "  * latitude   (latitude) float32 89.5 88.5 87.5 86.5 ... -87.5 -88.5 -89.5\n",
       "  * longitude  (longitude) float32 -179.5 -178.5 -177.5 ... 177.5 178.5 179.5\n",
       "Attributes:\n",
       "    standard_name:  sea_surface_temperature\n",
       "    long_name:      sst\n",
       "    units:          C\n",
       "    cell_methods:   time: lat: lon: mean"
      ]
     },
     "execution_count": 5,
     "metadata": {},
     "output_type": "execute_result"
    }
   ],
   "source": [
    "# Extract the sst variable\n",
    "data.sst"
   ]
  },
  {
   "cell_type": "markdown",
   "metadata": {},
   "source": [
    "Your SST data is saved as a DataArray which is xarray's implementation of a labeled, multi-dimensional array.\n",
    "It has several key properties:\n",
    "\n",
    "| Attribute | Description                                                                                                                              |\n",
    "| --------- | ---------------------------------------------------------------------------------------------------------------------------------------- |\n",
    "| `data`    | array's values.                                                                              |\n",
    "| `dims`    | dimension names for each axis. For example:(`x`, `y`, `z`) (`lat`, `lon`, `time`).                                                       |\n",
    "| `coords`  | values of the dimensions |\n",
    "| `attrs`   | relevant attributes/metadata (for example: units, research institution)                                                                   |\n",
    "| `name`    | name of the array                                                                                      |\n"
   ]
  },
  {
   "cell_type": "code",
   "execution_count": 6,
   "metadata": {},
   "outputs": [
    {
     "data": {
      "text/plain": [
       "('time', 'latitude', 'longitude')"
      ]
     },
     "execution_count": 6,
     "metadata": {},
     "output_type": "execute_result"
    }
   ],
   "source": [
    "# Extract dimensions\n",
    "data.sst.dims"
   ]
  },
  {
   "cell_type": "code",
   "execution_count": 7,
   "metadata": {},
   "outputs": [
    {
     "data": {
      "text/plain": [
       "Coordinates:\n",
       "  * time       (time) datetime64[ns] 1870-01-16T11:59:59.505615234 ... 2020-0...\n",
       "  * latitude   (latitude) float32 89.5 88.5 87.5 86.5 ... -87.5 -88.5 -89.5\n",
       "  * longitude  (longitude) float32 -179.5 -178.5 -177.5 ... 177.5 178.5 179.5"
      ]
     },
     "execution_count": 7,
     "metadata": {},
     "output_type": "execute_result"
    }
   ],
   "source": [
    "# Extract coordinates or values of the dimensions\n",
    "data.sst.coords"
   ]
  },
  {
   "cell_type": "code",
   "execution_count": 8,
   "metadata": {},
   "outputs": [
    {
     "data": {
      "text/html": [
       "<pre>&lt;xarray.DataArray &#x27;latitude&#x27; (latitude: 180)&gt;\n",
       "array([ 89.5,  88.5,  87.5,  86.5,  85.5,  84.5,  83.5,  82.5,  81.5,  80.5,\n",
       "        79.5,  78.5,  77.5,  76.5,  75.5,  74.5,  73.5,  72.5,  71.5,  70.5,\n",
       "        69.5,  68.5,  67.5,  66.5,  65.5,  64.5,  63.5,  62.5,  61.5,  60.5,\n",
       "        59.5,  58.5,  57.5,  56.5,  55.5,  54.5,  53.5,  52.5,  51.5,  50.5,\n",
       "        49.5,  48.5,  47.5,  46.5,  45.5,  44.5,  43.5,  42.5,  41.5,  40.5,\n",
       "        39.5,  38.5,  37.5,  36.5,  35.5,  34.5,  33.5,  32.5,  31.5,  30.5,\n",
       "        29.5,  28.5,  27.5,  26.5,  25.5,  24.5,  23.5,  22.5,  21.5,  20.5,\n",
       "        19.5,  18.5,  17.5,  16.5,  15.5,  14.5,  13.5,  12.5,  11.5,  10.5,\n",
       "         9.5,   8.5,   7.5,   6.5,   5.5,   4.5,   3.5,   2.5,   1.5,   0.5,\n",
       "        -0.5,  -1.5,  -2.5,  -3.5,  -4.5,  -5.5,  -6.5,  -7.5,  -8.5,  -9.5,\n",
       "       -10.5, -11.5, -12.5, -13.5, -14.5, -15.5, -16.5, -17.5, -18.5, -19.5,\n",
       "       -20.5, -21.5, -22.5, -23.5, -24.5, -25.5, -26.5, -27.5, -28.5, -29.5,\n",
       "       -30.5, -31.5, -32.5, -33.5, -34.5, -35.5, -36.5, -37.5, -38.5, -39.5,\n",
       "       -40.5, -41.5, -42.5, -43.5, -44.5, -45.5, -46.5, -47.5, -48.5, -49.5,\n",
       "       -50.5, -51.5, -52.5, -53.5, -54.5, -55.5, -56.5, -57.5, -58.5, -59.5,\n",
       "       -60.5, -61.5, -62.5, -63.5, -64.5, -65.5, -66.5, -67.5, -68.5, -69.5,\n",
       "       -70.5, -71.5, -72.5, -73.5, -74.5, -75.5, -76.5, -77.5, -78.5, -79.5,\n",
       "       -80.5, -81.5, -82.5, -83.5, -84.5, -85.5, -86.5, -87.5, -88.5, -89.5],\n",
       "      dtype=float32)\n",
       "Coordinates:\n",
       "  * latitude  (latitude) float32 89.5 88.5 87.5 86.5 ... -86.5 -87.5 -88.5 -89.5\n",
       "Attributes:\n",
       "    units:          degrees_north\n",
       "    long_name:      Latitude\n",
       "    standard_name:  latitude</pre>"
      ],
      "text/plain": [
       "<xarray.DataArray 'latitude' (latitude: 180)>\n",
       "array([ 89.5,  88.5,  87.5,  86.5,  85.5,  84.5,  83.5,  82.5,  81.5,  80.5,\n",
       "        79.5,  78.5,  77.5,  76.5,  75.5,  74.5,  73.5,  72.5,  71.5,  70.5,\n",
       "        69.5,  68.5,  67.5,  66.5,  65.5,  64.5,  63.5,  62.5,  61.5,  60.5,\n",
       "        59.5,  58.5,  57.5,  56.5,  55.5,  54.5,  53.5,  52.5,  51.5,  50.5,\n",
       "        49.5,  48.5,  47.5,  46.5,  45.5,  44.5,  43.5,  42.5,  41.5,  40.5,\n",
       "        39.5,  38.5,  37.5,  36.5,  35.5,  34.5,  33.5,  32.5,  31.5,  30.5,\n",
       "        29.5,  28.5,  27.5,  26.5,  25.5,  24.5,  23.5,  22.5,  21.5,  20.5,\n",
       "        19.5,  18.5,  17.5,  16.5,  15.5,  14.5,  13.5,  12.5,  11.5,  10.5,\n",
       "         9.5,   8.5,   7.5,   6.5,   5.5,   4.5,   3.5,   2.5,   1.5,   0.5,\n",
       "        -0.5,  -1.5,  -2.5,  -3.5,  -4.5,  -5.5,  -6.5,  -7.5,  -8.5,  -9.5,\n",
       "       -10.5, -11.5, -12.5, -13.5, -14.5, -15.5, -16.5, -17.5, -18.5, -19.5,\n",
       "       -20.5, -21.5, -22.5, -23.5, -24.5, -25.5, -26.5, -27.5, -28.5, -29.5,\n",
       "       -30.5, -31.5, -32.5, -33.5, -34.5, -35.5, -36.5, -37.5, -38.5, -39.5,\n",
       "       -40.5, -41.5, -42.5, -43.5, -44.5, -45.5, -46.5, -47.5, -48.5, -49.5,\n",
       "       -50.5, -51.5, -52.5, -53.5, -54.5, -55.5, -56.5, -57.5, -58.5, -59.5,\n",
       "       -60.5, -61.5, -62.5, -63.5, -64.5, -65.5, -66.5, -67.5, -68.5, -69.5,\n",
       "       -70.5, -71.5, -72.5, -73.5, -74.5, -75.5, -76.5, -77.5, -78.5, -79.5,\n",
       "       -80.5, -81.5, -82.5, -83.5, -84.5, -85.5, -86.5, -87.5, -88.5, -89.5],\n",
       "      dtype=float32)\n",
       "Coordinates:\n",
       "  * latitude  (latitude) float32 89.5 88.5 87.5 86.5 ... -86.5 -87.5 -88.5 -89.5\n",
       "Attributes:\n",
       "    units:          degrees_north\n",
       "    long_name:      Latitude\n",
       "    standard_name:  latitude"
      ]
     },
     "execution_count": 8,
     "metadata": {},
     "output_type": "execute_result"
    }
   ],
   "source": [
    "#You can also extract a particular coordinate such as latitude\n",
    "data.sst.latitude"
   ]
  },
  {
   "cell_type": "code",
   "execution_count": 11,
   "metadata": {},
   "outputs": [
    {
     "data": {
      "text/plain": [
       "{'standard_name': 'sea_surface_temperature',\n",
       " 'long_name': 'sst',\n",
       " 'units': 'C',\n",
       " 'cell_methods': 'time: lat: lon: mean'}"
      ]
     },
     "execution_count": 11,
     "metadata": {},
     "output_type": "execute_result"
    }
   ],
   "source": [
    "# Extract attributes\n",
    "data.sst.attrs"
   ]
  },
  {
   "cell_type": "code",
   "execution_count": null,
   "metadata": {},
   "outputs": [],
   "source": [
    "# Extract the units of the SST variable\n"
   ]
  },
  {
   "cell_type": "markdown",
   "metadata": {},
   "source": [
    "## Practice"
   ]
  },
  {
   "cell_type": "markdown",
   "metadata": {},
   "source": [
    "In your processing data script (`process_SST_data.py`), \n",
    "1. load in the netCDF file `HadISST_sst.nc` using xarray\n",
    "1. What values will be useful in our analysis? Save these as separate variables so you can call on them easily. \n",
    "\n",
    "Use the space below to test out your code."
   ]
  },
  {
   "cell_type": "code",
   "execution_count": null,
   "metadata": {},
   "outputs": [],
   "source": []
  },
  {
   "cell_type": "markdown",
   "metadata": {},
   "source": [
    "### Cheatsheet\n",
    "\n",
    "`open_dataset(file name)`: imports netCDF file\n",
    "\n",
    "`data_array.data_variable`: extracts data variable such as termperature or precipitation\n",
    "\n",
    "`data_array.data_variable.dims`: names of the dimensions of the data variable such as time, latitude, ...\n",
    "\n",
    "`data_array.data_variable.coords`: values of the dimensions of the data variable\n",
    "\n",
    "`data_array.data_variable.time`: extracts a particular coordinate\n",
    "\n",
    "`data.sst.attrs`: attributes of the data variable like it's name, units, ..."
   ]
  }
 ],
 "metadata": {
  "kernelspec": {
   "display_name": "Python 3",
   "language": "python",
   "name": "python3"
  },
  "language_info": {
   "codemirror_mode": {
    "name": "ipython",
    "version": 3
   },
   "file_extension": ".py",
   "mimetype": "text/x-python",
   "name": "python",
   "nbconvert_exporter": "python",
   "pygments_lexer": "ipython3",
   "version": "3.8.3"
  },
  "toc": {
   "base_numbering": 1,
   "nav_menu": {},
   "number_sections": true,
   "sideBar": true,
   "skip_h1_title": false,
   "title_cell": "Table of Contents",
   "title_sidebar": "Contents",
   "toc_cell": true,
   "toc_position": {},
   "toc_section_display": true,
   "toc_window_display": true
  },
  "toc-autonumbering": true,
  "widgets": {
   "application/vnd.jupyter.widget-state+json": {
    "state": {},
    "version_major": 2,
    "version_minor": 0
   }
  }
 },
 "nbformat": 4,
 "nbformat_minor": 4
}
